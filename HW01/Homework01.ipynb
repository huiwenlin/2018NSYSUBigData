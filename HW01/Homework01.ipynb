{
 "cells": [
  {
   "cell_type": "markdown",
   "metadata": {},
   "source": [
    "# Homework 01\n",
    "\n",
    "\n",
    "## 【題目】\n",
    "\n",
    "\n",
    "寫一個可以印出金字塔的函式!"
   ]
  },
  {
   "cell_type": "markdown",
   "metadata": {},
   "source": [
    "## 【解答】"
   ]
  },
  {
   "cell_type": "code",
   "execution_count": 9,
   "metadata": {},
   "outputs": [
    {
     "name": "stdout",
     "output_type": "stream",
     "text": [
      "                   * \n",
      "                  * * \n",
      "                 * * * \n",
      "                * * * * \n",
      "               * * * * * \n",
      "              * * * * * * \n",
      "             * * * * * * * \n",
      "            * * * * * * * * \n",
      "           * * * * * * * * * \n",
      "          * * * * * * * * * * \n",
      "         * * * * * * * * * * * \n",
      "        * * * * * * * * * * * * \n",
      "       * * * * * * * * * * * * * \n",
      "      * * * * * * * * * * * * * * \n",
      "     * * * * * * * * * * * * * * * \n",
      "    * * * * * * * * * * * * * * * * \n",
      "   * * * * * * * * * * * * * * * * * \n",
      "  * * * * * * * * * * * * * * * * * * \n",
      " * * * * * * * * * * * * * * * * * * * \n",
      "* * * * * * * * * * * * * * * * * * * * \n"
     ]
    }
   ],
   "source": [
    "#定義pyramid(n)函式\n",
    "def pyramid(n):\n",
    "    for i in range(n):                        # 總共有n層\n",
    "        for j in range(n - i - 1):            # 在第一個*號出現前，先印出空白\n",
    "                 print(\" \", end = \"\")\n",
    "        for k in range(i + 1):                # 印出該層所需要的*字數量\n",
    "                print(\"* \", end = \"\" )\n",
    "        print()                               # 換行\n",
    "\n",
    "pyramid(20)"
   ]
  },
  {
   "cell_type": "code",
   "execution_count": null,
   "metadata": {
    "collapsed": true
   },
   "outputs": [],
   "source": []
  }
 ],
 "metadata": {
  "kernelspec": {
   "display_name": "Python 3",
   "language": "python",
   "name": "python3"
  },
  "language_info": {
   "codemirror_mode": {
    "name": "ipython",
    "version": 3
   },
   "file_extension": ".py",
   "mimetype": "text/x-python",
   "name": "python",
   "nbconvert_exporter": "python",
   "pygments_lexer": "ipython3",
   "version": "3.6.3"
  }
 },
 "nbformat": 4,
 "nbformat_minor": 2
}
